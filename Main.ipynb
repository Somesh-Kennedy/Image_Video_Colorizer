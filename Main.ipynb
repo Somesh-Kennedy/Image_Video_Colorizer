{
 "cells": [
  {
   "cell_type": "code",
   "execution_count": 1,
   "id": "3c4a0f55",
   "metadata": {},
   "outputs": [],
   "source": [
    "from Colorizer import *"
   ]
  },
  {
   "cell_type": "code",
   "execution_count": 2,
   "id": "cb19588d",
   "metadata": {},
   "outputs": [],
   "source": [
    "colorizer = Colorizer(width=640, height=400)"
   ]
  },
  {
   "cell_type": "code",
   "execution_count": 3,
   "id": "d1c6a63e",
   "metadata": {},
   "outputs": [],
   "source": [
    "colorizer.processImage(\"input/3.jpg\")"
   ]
  },
  {
   "cell_type": "code",
   "execution_count": 3,
   "id": "3bf8460e",
   "metadata": {},
   "outputs": [],
   "source": [
    "colorizer.processVideo(\"input/.mp4\")"
   ]
  },
  {
   "cell_type": "code",
   "execution_count": 4,
   "id": "b91c986b",
   "metadata": {},
   "outputs": [],
   "source": [
    "colorizer.processVideo(\"input/6.mp4\")"
   ]
  },
  {
   "cell_type": "code",
   "execution_count": 7,
   "id": "99946b28",
   "metadata": {},
   "outputs": [
    {
     "ename": "KeyboardInterrupt",
     "evalue": "",
     "output_type": "error",
     "traceback": [
      "\u001b[1;31m---------------------------------------------------------------------------\u001b[0m",
      "\u001b[1;31mKeyboardInterrupt\u001b[0m                         Traceback (most recent call last)",
      "Cell \u001b[1;32mIn[7], line 1\u001b[0m\n\u001b[1;32m----> 1\u001b[0m \u001b[43mcolorizer\u001b[49m\u001b[38;5;241;43m.\u001b[39;49m\u001b[43mprocessVideo\u001b[49m\u001b[43m(\u001b[49m\u001b[38;5;124;43m\"\u001b[39;49m\u001b[38;5;124;43minput/7.mp4\u001b[39;49m\u001b[38;5;124;43m\"\u001b[39;49m\u001b[43m)\u001b[49m\n",
      "File \u001b[1;32m~\\PycharmProjects\\OPENCV\\Colorizer.py:72\u001b[0m, in \u001b[0;36mColorizer.processVideo\u001b[1;34m(self, videoName)\u001b[0m\n\u001b[0;32m     69\u001b[0m \u001b[38;5;28;01mwhile\u001b[39;00m sucess:\n\u001b[0;32m     70\u001b[0m     \u001b[38;5;28mself\u001b[39m\u001b[38;5;241m.\u001b[39mimg \u001b[38;5;241m=\u001b[39m cv2\u001b[38;5;241m.\u001b[39mresize(\u001b[38;5;28mself\u001b[39m\u001b[38;5;241m.\u001b[39mimg, (\u001b[38;5;28mself\u001b[39m\u001b[38;5;241m.\u001b[39mwidth,\u001b[38;5;28mself\u001b[39m\u001b[38;5;241m.\u001b[39mheight))\n\u001b[1;32m---> 72\u001b[0m     \u001b[38;5;28;43mself\u001b[39;49m\u001b[38;5;241;43m.\u001b[39;49m\u001b[43mprocessFrame\u001b[49m\u001b[43m(\u001b[49m\u001b[43m)\u001b[49m\n\u001b[0;32m     73\u001b[0m     out\u001b[38;5;241m.\u001b[39mwrite(\u001b[38;5;28mself\u001b[39m\u001b[38;5;241m.\u001b[39mimgFinal)\n\u001b[0;32m     75\u001b[0m     nextFrameTime \u001b[38;5;241m=\u001b[39m time\u001b[38;5;241m.\u001b[39mtime()\n",
      "File \u001b[1;32m~\\PycharmProjects\\OPENCV\\Colorizer.py:45\u001b[0m, in \u001b[0;36mColorizer.processFrame\u001b[1;34m(self)\u001b[0m\n\u001b[0;32m     42\u001b[0m channelLResized \u001b[38;5;241m-\u001b[39m\u001b[38;5;241m=\u001b[39m  \u001b[38;5;241m50\u001b[39m\n\u001b[0;32m     44\u001b[0m \u001b[38;5;28mself\u001b[39m\u001b[38;5;241m.\u001b[39mcolorModel\u001b[38;5;241m.\u001b[39msetInput(cv2\u001b[38;5;241m.\u001b[39mdnn\u001b[38;5;241m.\u001b[39mblobFromImage(channelLResized))\n\u001b[1;32m---> 45\u001b[0m result \u001b[38;5;241m=\u001b[39m \u001b[38;5;28;43mself\u001b[39;49m\u001b[38;5;241;43m.\u001b[39;49m\u001b[43mcolorModel\u001b[49m\u001b[38;5;241;43m.\u001b[39;49m\u001b[43mforward\u001b[49m\u001b[43m(\u001b[49m\u001b[43m)\u001b[49m[\u001b[38;5;241m0\u001b[39m,:,:,:]\u001b[38;5;241m.\u001b[39mtranspose((\u001b[38;5;241m1\u001b[39m,\u001b[38;5;241m2\u001b[39m,\u001b[38;5;241m0\u001b[39m))\n\u001b[0;32m     47\u001b[0m resultResized \u001b[38;5;241m=\u001b[39m cv2\u001b[38;5;241m.\u001b[39mresize(result, (\u001b[38;5;28mself\u001b[39m\u001b[38;5;241m.\u001b[39mwidth,\u001b[38;5;28mself\u001b[39m\u001b[38;5;241m.\u001b[39mheight))\n\u001b[0;32m     49\u001b[0m \u001b[38;5;28mself\u001b[39m\u001b[38;5;241m.\u001b[39mimgOut \u001b[38;5;241m=\u001b[39m np\u001b[38;5;241m.\u001b[39mconcatenate((channelL[:,:,np\u001b[38;5;241m.\u001b[39mnewaxis], resultResized),axis\u001b[38;5;241m=\u001b[39m\u001b[38;5;241m2\u001b[39m)\n",
      "\u001b[1;31mKeyboardInterrupt\u001b[0m: "
     ]
    }
   ],
   "source": [
    "colorizer.processVideo(\"input/7.mp4\")"
   ]
  }
 ],
 "metadata": {
  "kernelspec": {
   "display_name": "Python 3 (ipykernel)",
   "language": "python",
   "name": "python3"
  },
  "language_info": {
   "codemirror_mode": {
    "name": "ipython",
    "version": 3
   },
   "file_extension": ".py",
   "mimetype": "text/x-python",
   "name": "python",
   "nbconvert_exporter": "python",
   "pygments_lexer": "ipython3",
   "version": "3.9.16"
  }
 },
 "nbformat": 4,
 "nbformat_minor": 5
}
